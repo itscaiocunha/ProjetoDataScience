{
 "cells": [
  {
   "cell_type": "code",
   "execution_count": 8,
   "metadata": {},
   "outputs": [],
   "source": [
    "from scipy.stats import chi2_contingency\n",
    "import pandas as pd"
   ]
  },
  {
   "cell_type": "code",
   "execution_count": 9,
   "metadata": {},
   "outputs": [],
   "source": [
    "# Carregar o dataset\n",
    "df = pd.read_csv(\"InfectiousDisease20012014.csv\")"
   ]
  },
  {
   "cell_type": "code",
   "execution_count": 10,
   "metadata": {},
   "outputs": [
    {
     "name": "stdout",
     "output_type": "stream",
     "text": [
      "Resultado do Teste Qui-Quadrado:\n",
      "Estatística Qui-quadrado: 0.0\n",
      "Valor-p: 1.0\n",
      "Graus de liberdade: 128\n",
      "Não rejeitamos a hipótese nula - Não há evidências estatísticas de associação.\n"
     ]
    }
   ],
   "source": [
    "# Criar tabela de contingência entre Sexo e Doença\n",
    "contingency_table = pd.crosstab(df['Sex'], df['Disease'])\n",
    "\n",
    "# Aplicar o teste qui-quadrado\n",
    "chi2_stat, p_val, dof, expected = chi2_contingency(contingency_table)\n",
    "\n",
    "print(\"Resultado do Teste Qui-Quadrado:\")\n",
    "print(\"Estatística Qui-quadrado:\", chi2_stat)\n",
    "print(\"Valor-p:\", p_val)\n",
    "print(\"Graus de liberdade:\", dof)\n",
    "\n",
    "if p_val < 0.05:\n",
    "    print(\"Rejeitamos a hipótese nula - Existe associação significativa entre Sexo e Doença.\")\n",
    "else:\n",
    "    print(\"Não rejeitamos a hipótese nula - Não há evidências estatísticas de associação.\")"
   ]
  }
 ],
 "metadata": {
  "kernelspec": {
   "display_name": "Python 3",
   "language": "python",
   "name": "python3"
  },
  "language_info": {
   "codemirror_mode": {
    "name": "ipython",
    "version": 3
   },
   "file_extension": ".py",
   "mimetype": "text/x-python",
   "name": "python",
   "nbconvert_exporter": "python",
   "pygments_lexer": "ipython3",
   "version": "3.10.0"
  }
 },
 "nbformat": 4,
 "nbformat_minor": 2
}
