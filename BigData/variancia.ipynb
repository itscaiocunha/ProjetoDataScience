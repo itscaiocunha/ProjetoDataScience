{
 "cells": [
  {
   "cell_type": "code",
   "execution_count": 6,
   "metadata": {},
   "outputs": [],
   "source": [
    "import scipy.stats as stats\n",
    "import pandas as pd"
   ]
  },
  {
   "cell_type": "code",
   "execution_count": 7,
   "metadata": {},
   "outputs": [],
   "source": [
    "# Carregar o dataset\n",
    "df = pd.read_csv(\"InfectiousDisease20012014.csv\")"
   ]
  },
  {
   "cell_type": "code",
   "execution_count": 9,
   "metadata": {},
   "outputs": [
    {
     "name": "stdout",
     "output_type": "stream",
     "text": [
      "Resultado da ANOVA para taxa de incidência entre condados: F_onewayResult(statistic=10.63896461893136, pvalue=1.32389595127119e-08)\n"
     ]
    }
   ],
   "source": [
    "# ANOVA para comparar a taxa de incidência entre os condados mais frequentes\n",
    "top_counties = df['County'].value_counts().nlargest(5).index  # Seleciona os 5 principais condados\n",
    "anova_data = df[df['County'].isin(top_counties)]\n",
    "\n",
    "anova_groups = [anova_data[anova_data['County'] == county]['Rate'].dropna() for county in top_counties]\n",
    "anova_result = stats.f_oneway(*anova_groups)\n",
    "\n",
    "print(\"Resultado da ANOVA para taxa de incidência entre condados:\", anova_result)"
   ]
  }
 ],
 "metadata": {
  "kernelspec": {
   "display_name": "Python 3",
   "language": "python",
   "name": "python3"
  },
  "language_info": {
   "codemirror_mode": {
    "name": "ipython",
    "version": 3
   },
   "file_extension": ".py",
   "mimetype": "text/x-python",
   "name": "python",
   "nbconvert_exporter": "python",
   "pygments_lexer": "ipython3",
   "version": "3.10.0"
  }
 },
 "nbformat": 4,
 "nbformat_minor": 2
}
