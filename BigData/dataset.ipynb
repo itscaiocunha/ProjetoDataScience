{
 "cells": [
  {
   "cell_type": "code",
   "execution_count": 1,
   "metadata": {},
   "outputs": [],
   "source": [
    "import pandas as pd\n",
    "import matplotlib.pyplot as plt\n",
    "import seaborn as sns"
   ]
  },
  {
   "cell_type": "code",
   "execution_count": null,
   "metadata": {},
   "outputs": [],
   "source": [
    "# Carregar o dataset\n",
    "df = pd.read_csv(\"InfectiousDisease20012014.csv\")"
   ]
  },
  {
   "cell_type": "code",
   "execution_count": null,
   "metadata": {},
   "outputs": [],
   "source": [
    "# Inspeção inicial dos dados\n",
    "print(df.info())\n",
    "print(df.describe())\n",
    "print(df.isnull().sum())"
   ]
  },
  {
   "cell_type": "code",
   "execution_count": null,
   "metadata": {},
   "outputs": [],
   "source": [
    "# Visualização da distribuição das variáveis numéricas\n",
    "plt.figure(figsize=(10, 6))\n",
    "df.hist(bins=30, figsize=(12, 8), edgecolor='black')\n",
    "plt.tight_layout()\n",
    "plt.show()"
   ]
  },
  {
   "cell_type": "code",
   "execution_count": null,
   "metadata": {},
   "outputs": [],
   "source": [
    "# Boxplot para identificar outliers\n",
    "plt.figure(figsize=(10, 6))\n",
    "sns.boxplot(data=df)\n",
    "plt.xticks(rotation=90)\n",
    "plt.show()"
   ]
  },
  {
   "cell_type": "code",
   "execution_count": null,
   "metadata": {},
   "outputs": [],
   "source": [
    "# Matriz de correlação\n",
    "plt.figure(figsize=(10, 6))\n",
    "numeric_df = df.select_dtypes(include=['number'])  # Filtrar apenas colunas numéricas\n",
    "sns.heatmap(numeric_df.corr(), annot=True, cmap=\"coolwarm\", fmt=\".2f\")\n",
    "plt.show()"
   ]
  },
  {
   "cell_type": "code",
   "execution_count": null,
   "metadata": {},
   "outputs": [],
   "source": [
    "# Scatter plot entre duas variáveis numéricas reais\n",
    "plt.figure(figsize=(8, 6))\n",
    "numeric_cols = df.select_dtypes(include=['number']).columns.tolist()\n",
    "if len(numeric_cols) >= 2:\n",
    "    sns.scatterplot(x=df[numeric_cols[0]], y=df[numeric_cols[1]])\n",
    "    plt.xlabel(numeric_cols[0])\n",
    "    plt.ylabel(numeric_cols[1])\n",
    "    plt.title(f'Relação entre {numeric_cols[0]} e {numeric_cols[1]}')\n",
    "    plt.show()\n",
    "else:\n",
    "    print(\"Não há colunas numéricas suficientes para um scatter plot.\")"
   ]
  },
  {
   "cell_type": "code",
   "execution_count": null,
   "metadata": {},
   "outputs": [],
   "source": [
    "# Gráfico de barras para variáveis categóricas\n",
    "plt.figure(figsize=(8, 6))\n",
    "categorical_cols = df.select_dtypes(include=['object']).columns.tolist()\n",
    "if categorical_cols:\n",
    "    cat_col = categorical_cols[0]  # Escolher a primeira coluna categórica disponível\n",
    "    df[cat_col].value_counts().plot(kind='bar', color='skyblue', edgecolor='black')\n",
    "    plt.xlabel(cat_col)\n",
    "    plt.ylabel('Frequência')\n",
    "    plt.title(f'Distribuição da variável {cat_col}')\n",
    "    plt.show()\n",
    "else:\n",
    "    print(\"Nenhuma variável categórica disponível para o gráfico de barras.\")"
   ]
  },
  {
   "cell_type": "code",
   "execution_count": null,
   "metadata": {},
   "outputs": [],
   "source": [
    "# Evolução da taxa de incidência ao longo dos anos\n",
    "plt.figure(figsize=(10, 6))\n",
    "sns.lineplot(x=df['Year'], y=df['Rate'], estimator='mean', ci=None)\n",
    "plt.xlabel('Ano')\n",
    "plt.ylabel('Taxa de Incidência')\n",
    "plt.title('Evolução da Taxa de Incidência ao Longo dos Anos')\n",
    "plt.show()"
   ]
  },
  {
   "cell_type": "code",
   "execution_count": null,
   "metadata": {},
   "outputs": [],
   "source": [
    "# Comparação de taxas entre diferentes condados\n",
    "plt.figure(figsize=(12, 6))\n",
    "top_counties = df.groupby('County')['Rate'].mean().nlargest(10).index\n",
    "sns.boxplot(x=df[df['County'].isin(top_counties)]['County'], y=df['Rate'])\n",
    "plt.xticks(rotation=90)\n",
    "plt.xlabel('Condado')\n",
    "plt.ylabel('Taxa de Incidência')\n",
    "plt.title('Comparação de Taxas entre os Principais Condados')\n",
    "plt.show()"
   ]
  },
  {
   "cell_type": "code",
   "execution_count": null,
   "metadata": {},
   "outputs": [],
   "source": [
    "# Análise da diferença de taxa de incidência por sexo\n",
    "plt.figure(figsize=(8, 6))\n",
    "sns.boxplot(x=df['Sex'], y=df['Rate'])\n",
    "plt.xlabel('Sexo')\n",
    "plt.ylabel('Taxa de Incidência')\n",
    "plt.title('Diferença na Taxa de Incidência por Sexo')\n",
    "plt.show()"
   ]
  },
  {
   "cell_type": "code",
   "execution_count": null,
   "metadata": {},
   "outputs": [],
   "source": [
    "# Comparação entre as doenças mais comuns\n",
    "plt.figure(figsize=(12, 6))\n",
    "top_diseases = df['Disease'].value_counts().nlargest(10).index\n",
    "disease_data = df[df['Disease'].isin(top_diseases)]\n",
    "sns.boxplot(x=disease_data['Disease'], y=disease_data['Rate'])\n",
    "plt.xticks(rotation=90)\n",
    "plt.xlabel('Doença')\n",
    "plt.ylabel('Taxa de Incidência')\n",
    "plt.title('Comparação entre as Principais Doenças')\n",
    "plt.show()"
   ]
  }
 ],
 "metadata": {
  "kernelspec": {
   "display_name": "Python 3",
   "language": "python",
   "name": "python3"
  },
  "language_info": {
   "codemirror_mode": {
    "name": "ipython",
    "version": 3
   },
   "file_extension": ".py",
   "mimetype": "text/x-python",
   "name": "python",
   "nbconvert_exporter": "python",
   "pygments_lexer": "ipython3",
   "version": "3.10.0"
  }
 },
 "nbformat": 4,
 "nbformat_minor": 2
}
